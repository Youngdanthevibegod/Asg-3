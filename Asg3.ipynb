{
 "cells": [
  {
   "cell_type": "code",
   "execution_count": 10,
   "id": "60052671-316d-4ed5-a2fe-2e8f86045ff1",
   "metadata": {},
   "outputs": [
    {
     "name": "stdin",
     "output_type": "stream",
     "text": [
      "What is overall grade percentage? 0.69\n"
     ]
    },
    {
     "name": "stdout",
     "output_type": "stream",
     "text": [
      "C\n"
     ]
    }
   ],
   "source": [
    "#Write a program that will take ask the user to input their overall \n",
    "#grade percentage, between 0 and 1, and then print the corresponding \n",
    "#letter grade to the terminal\n",
    "\n",
    "percentage = float(input('What is overall grade percentage?'))\n",
    "\n",
    "if percentage <= 0.5 and percentage >=0:\n",
    "    print('F')\n",
    "elif percentage <= 0.65 and percentage >=0.51:\n",
    "    print('D')\n",
    "elif percentage <= 0.75 and percentage >=0.66:\n",
    "    print('C')\n",
    "elif percentage <= 0.89 and percentage >=0.76:\n",
    "    print('B')   \n",
    "elif percentage <= 1.0 and percentage >=0.90:\n",
    "    print('A')\n",
    "else:                                        \n",
    "    print('Invalid Input')"
   ]
  },
  {
   "cell_type": "code",
   "execution_count": 22,
   "id": "753488da-6956-45bb-b31b-ce1f192a3042",
   "metadata": {},
   "outputs": [
    {
     "name": "stdin",
     "output_type": "stream",
     "text": [
      "What is the name of the month? 7\n"
     ]
    },
    {
     "name": "stdout",
     "output_type": "stream",
     "text": [
      "Invalid Input\n"
     ]
    }
   ],
   "source": [
    "#Write a program that will ask the user to input the name of a month (provide format details) as input, and then print the expected number of days in that month in the year 2023 CE.\n",
    "month = input('What is the name of the month?')\n",
    "try:\n",
    "    if month == ('January'):\n",
    "         print('31 Days')     \n",
    "    elif month == ('Feburary'):\n",
    "         print('29 Days') \n",
    "    elif month == ('March'):\n",
    "         print('31 Days') \n",
    "    elif month == ('April'):\n",
    "         print('30 Days') \n",
    "    elif month == ('May'):\n",
    "         print('31 Days') \n",
    "    elif month == ('June'):\n",
    "         print('30 Days') \n",
    "    elif month == ('July'):\n",
    "         print('31 Days') \n",
    "    elif month == ('August'):\n",
    "         print('31 Days') \n",
    "    elif month == ('September'):\n",
    "         print('30 Days') \n",
    "    elif month == ('October'):\n",
    "         print('31 Days') \n",
    "    elif month == ('November'):\n",
    "         print('30 Days') \n",
    "    elif month == ('December'):\n",
    "         print('31 Days') \n",
    "    else:\n",
    "        print('Invalid Input')\n",
    "except(ValueError):\n",
    "        print('Please, enter the correct month')\n",
    " \n"
   ]
  }
 ],
 "metadata": {
  "kernelspec": {
   "display_name": "Python 3 (ipykernel)",
   "language": "python",
   "name": "python3"
  },
  "language_info": {
   "codemirror_mode": {
    "name": "ipython",
    "version": 3
   },
   "file_extension": ".py",
   "mimetype": "text/x-python",
   "name": "python",
   "nbconvert_exporter": "python",
   "pygments_lexer": "ipython3",
   "version": "3.11.5"
  }
 },
 "nbformat": 4,
 "nbformat_minor": 5
}
